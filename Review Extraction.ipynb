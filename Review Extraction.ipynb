{
  "nbformat": 4,
  "nbformat_minor": 0,
  "metadata": {
    "colab": {
      "name": "Assignment_1_Part_1_Anuvrat_Baruah.ipynb",
      "provenance": [],
      "collapsed_sections": []
    },
    "kernelspec": {
      "name": "python3",
      "display_name": "Python 3"
    },
    "accelerator": "GPU"
  },
  "cells": [
    {
      "cell_type": "code",
      "metadata": {
        "id": "Y9vw4jmXiQ4m",
        "colab_type": "code",
        "colab": {}
      },
      "source": [
        "# Import required libraries \n",
        "import requests\n",
        "from bs4 import BeautifulSoup\n",
        "import re\n",
        "import csv\n",
        "import time\n",
        "\n",
        "# Request topic from Yelp\n",
        "html = requests.get('https://www.yelp.com/search?find_desc=Pizza+Delivery&find_loc=Toronto%2C+Ontario&ns=1')\n",
        "pizza = BeautifulSoup(html.text, 'html.parser')"
      ],
      "execution_count": 0,
      "outputs": []
    },
    {
      "cell_type": "code",
      "metadata": {
        "id": "pV03LRUH5Xsr",
        "colab_type": "code",
        "colab": {}
      },
      "source": [
        "# Request links for Top 10 Pizza Delivery restaurants\n",
        "restaurants = pizza.find_all('a', attrs= {'class' : \"lemon--a__373c0__IEZFH link__373c0__1G70M link-color--inherit__373c0__3dzpk link-size--inherit__373c0__1VFlE\"})\n",
        "topten = restaurants[1:11]\n",
        "links = []\n",
        "for i in topten:\n",
        "  links.append(\"http://yelp.com\" + i.get('href'))"
      ],
      "execution_count": 0,
      "outputs": []
    },
    {
      "cell_type": "code",
      "metadata": {
        "id": "hAxTiRiZKLiN",
        "colab_type": "code",
        "colab": {}
      },
      "source": [
        "# Name\n",
        "names = []\n",
        "for i in topten:\n",
        "  for r in range(10):\n",
        "   names.append(i.get('name'))"
      ],
      "execution_count": 0,
      "outputs": []
    },
    {
      "cell_type": "code",
      "metadata": {
        "id": "rcw5QT8TGNzH",
        "colab_type": "code",
        "colab": {}
      },
      "source": [
        "score = []\n",
        "date = []\n",
        "reviewlist = []\n",
        "\n",
        "for link in range(len(links)):\n",
        "  restaurant = requests.get(links[link])\n",
        "  res = BeautifulSoup(restaurant.text, 'html.parser')\n",
        "  ratings = res.find_all('div', attrs = {'role' : 'img'})\n",
        "  dates = res.find_all('span', attrs = {'class' : 'lemon--span__373c0__3997G text__373c0__2Kxyz text-color--mid__373c0__jCeOG text-align--left__373c0__2XGa-'})\n",
        "  reviews = res.find_all('span', attrs = {\"class\" : \"lemon--span__373c0__3997G raw__373c0__3rKqk\"})\n",
        "\n",
        "  # Ratings\n",
        "  ratings = ratings[1:11]\n",
        "  rating = []\n",
        "  for i in ratings:\n",
        "    rating.append(i.get('aria-label'))\n",
        "\n",
        "\n",
        "  for i in range(len(rating)):\n",
        "    temp = re.findall(r'\\d+', rating[i])\n",
        "    for i in temp:\n",
        "      score.append(i)\n",
        "\n",
        "\n",
        "  # Date\n",
        "  dates = dates[:10]\n",
        "  for i in dates:\n",
        "    date.append(i.string)\n",
        "  \n",
        "\n",
        "  # Reviews\n",
        "  toptenreviews = reviews[2:12]\n",
        "  toptenreviews\n",
        "  for i in toptenreviews:\n",
        "    reviewlist.append(i.get_text())\n",
        "\n",
        "  # Sleep function to wait betwwen requests\n",
        "  time.sleep(10)"
      ],
      "execution_count": 0,
      "outputs": []
    },
    {
      "cell_type": "code",
      "metadata": {
        "id": "O3Se73xxidNK",
        "colab_type": "code",
        "colab": {}
      },
      "source": [
        "# Write data to csv\n",
        "with open('Yelp - Pizza Delivery.csv', 'w', newline='') as f:\n",
        "  writer = csv.DictWriter(\n",
        "    f, fieldnames=[\"Name\", \"RatingValue\", \"DatePublished\", \"Review\"])\n",
        "  writer.writeheader()\n",
        "  for i in range(len(score)):\n",
        "    writer.writerow({\"Name\": names[i], \"RatingValue\": score[i], \"DatePublished\": date[i], \"Review\":reviewlist[i]})\n",
        "f.close()"
      ],
      "execution_count": 0,
      "outputs": []
    }
  ]
}